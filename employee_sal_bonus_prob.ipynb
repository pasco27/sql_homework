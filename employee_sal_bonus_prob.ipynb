{
 "cells": [
  {
   "cell_type": "code",
   "execution_count": null,
   "metadata": {},
   "outputs": [],
   "source": [
    "## As a bonus to the SQL homework, we're asked to:"
   ]
  },
  {
   "cell_type": "code",
   "execution_count": null,
   "metadata": {},
   "outputs": [],
   "source": [
    "## Import the SQL database into Pandas"
   ]
  },
  {
   "cell_type": "code",
   "execution_count": null,
   "metadata": {},
   "outputs": [],
   "source": []
  },
  {
   "cell_type": "code",
   "execution_count": null,
   "metadata": {},
   "outputs": [],
   "source": []
  },
  {
   "cell_type": "code",
   "execution_count": 1,
   "metadata": {},
   "outputs": [],
   "source": [
    "## When we were asked to run these lines of code on Thursday before class (SQL_1):\n",
    "# conda install - c anaconda sqlite\n",
    "# conda install - c anaconda sqlalchemy\n",
    "# pip install psychopg2\n",
    "\n",
    "# this last line gave me some errors, and the instructor asked to do a brew install of the same items \n",
    "# What I think we just found out yesterday that is created another user. \n",
    "# So now, I'm getting a password error every time I try to access pgAdmin from Jupyter. \n",
    "# We worked for about an hour to troubleshoot different ways of access, no luck.\n",
    "# The solution that was brought forth was to uninstall and reinstall postgresQL / pgAdmin.\n",
    "# This would obvious delete all the data / examples / work I've put into class until now,\n",
    "# ...which I don't really want to do.\n",
    "\n",
    "# I wanted to get the homework completed and submitted before attempting any of this,\n",
    "# ...but unfortuately I (obviously) that part working for this bonus.\n",
    "\n",
    "# I'm going to show a few steps here to prove my understanding of the exercise in hopes of a few points anyway:\n"
   ]
  },
  {
   "cell_type": "code",
   "execution_count": null,
   "metadata": {},
   "outputs": [],
   "source": []
  },
  {
   "cell_type": "code",
   "execution_count": null,
   "metadata": {},
   "outputs": [],
   "source": []
  },
  {
   "cell_type": "code",
   "execution_count": null,
   "metadata": {},
   "outputs": [],
   "source": []
  },
  {
   "cell_type": "code",
   "execution_count": null,
   "metadata": {},
   "outputs": [],
   "source": []
  }
 ],
 "metadata": {
  "kernelspec": {
   "display_name": "Python 3",
   "language": "python",
   "name": "python3"
  },
  "language_info": {
   "codemirror_mode": {
    "name": "ipython",
    "version": 3
   },
   "file_extension": ".py",
   "mimetype": "text/x-python",
   "name": "python",
   "nbconvert_exporter": "python",
   "pygments_lexer": "ipython3",
   "version": "3.7.6"
  }
 },
 "nbformat": 4,
 "nbformat_minor": 4
}
